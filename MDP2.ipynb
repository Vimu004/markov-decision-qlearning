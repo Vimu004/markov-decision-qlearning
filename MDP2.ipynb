{
 "cells": [
  {
   "cell_type": "code",
   "execution_count": 20,
   "metadata": {},
   "outputs": [],
   "source": [
    "import numpy as np \n",
    "import random \n",
    "import matplotlib.pyplot as plt"
   ]
  },
  {
   "cell_type": "code",
   "execution_count": 21,
   "metadata": {},
   "outputs": [],
   "source": [
    "#setting up the grid \n",
    "grid_size = 5\n",
    "goal = (4,4)\n",
    "obstacles = [(1,1), (3,1), (4,3), (2,4), (1,3)]"
   ]
  },
  {
   "cell_type": "code",
   "execution_count": 22,
   "metadata": {},
   "outputs": [],
   "source": [
    "#Actions & Q table \n",
    "actions = [\"UP\", \"DOWN\", \"LEFT\", \"RIGHT\"]\n",
    "q = np.zeros((grid_size, grid_size, len(actions)))"
   ]
  },
  {
   "cell_type": "code",
   "execution_count": 23,
   "metadata": {},
   "outputs": [],
   "source": [
    "#submarine movements(actions)\n",
    "\n",
    "def move(state, action):\n",
    "    moves = {\"UP\" : (-1,0), \"DOWN\" : (1,0), \"LEFT\" : (0, -1), \"RIGHT\" : (0,1)}\n",
    "    new_state = (state[0] + moves[action][0], state[1] + moves[action][1])\n",
    "    return new_state if 0 <= new_state[0] < grid_size and 0 <= new_state[1] <grid_size and new_state not in obstacles else state"
   ]
  },
  {
   "cell_type": "code",
   "execution_count": 24,
   "metadata": {},
   "outputs": [],
   "source": [
    "for _ in range(100):  # Fixed: Training loop indentation\n",
    "    state = (0, 0)\n",
    "    while state != goal:\n",
    "        action = random.choice(actions)\n",
    "        new_state = move(state, action)\n",
    "        reward = 10 if new_state == goal else (-5 if new_state in obstacles else -1)\n",
    "        \n",
    "        # Fixed: Correct Q-table indexing\n",
    "        q[state][actions.index(action)] += 0.5 * (reward + 0.9 * np.max(q[new_state]) - q[state][actions.index(action)])\n",
    "        \n",
    "        state = new_state"
   ]
  },
  {
   "cell_type": "code",
   "execution_count": 25,
   "metadata": {},
   "outputs": [],
   "source": [
    "state, path = (0, 0), [(0, 0)]\n",
    "while state != goal:\n",
    "    action = actions[np.argmax(q[state])]\n",
    "    state = move(state, action)\n",
    "    path.append(state)"
   ]
  },
  {
   "cell_type": "code",
   "execution_count": 26,
   "metadata": {},
   "outputs": [
    {
     "data": {
      "image/png": "[encoded data removed]",
      "text/plain": [
       "<Figure size 640x480 with 1 Axes>"
      ]
     },
     "metadata": {},
     "output_type": "display_data"
    }
   ],
   "source": [
    "grid = np.zeros((grid_size, grid_size))\n",
    "for obs in obstacles:\n",
    "    grid[obs] = -1  # Fixed: Correct obstacles indexing\n",
    "\n",
    "grid[goal] = 2  # Mark goal position\n",
    "\n",
    "plt.imshow(grid, cmap=\"gray_r\", origin=\"upper\")\n",
    "for (x, y) in path:\n",
    "    plt.text(y, x, \"#\", ha=\"center\", va=\"center\", fontsize=15, color=\"red\" if (x, y) != goal else \"green\")\n",
    "\n",
    "plt.xticks(range(grid_size))\n",
    "plt.yticks(range(grid_size))\n",
    "plt.grid(True)\n",
    "plt.show() "
   ]
  }
 ],
 "metadata": {
  "kernelspec": {
   "display_name": "Python 3",
   "language": "python",
   "name": "python3"
  },
  "language_info": {
   "codemirror_mode": {
    "name": "ipython",
    "version": 3
   },
   "file_extension": ".py",
   "mimetype": "text/x-python",
   "name": "python",
   "nbconvert_exporter": "python",
   "pygments_lexer": "ipython3",
   "version": "3.12.6"
  }
 },
 "nbformat": 4,
 "nbformat_minor": 2
}
